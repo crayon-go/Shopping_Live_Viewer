{
 "cells": [
  {
   "cell_type": "code",
   "execution_count": 1,
   "metadata": {},
   "outputs": [],
   "source": [
    "import requests\n",
    "import time\n",
    "import json\n",
    "import selenium.webdriver.support.ui as ui\n",
    "from selenium.webdriver.common.keys import Keys\n",
    "import threading\n",
    "import queue\n",
    "import random\n",
    "import datetime\n",
    "import pyperclip\n",
    "\n",
    "from urllib.error import URLError, HTTPError\n",
    "from selenium import webdriver\n",
    "from selenium.webdriver.chrome.options import Options\n",
    "from selenium.webdriver.remote.webelement import WebElement\n",
    "from selenium.webdriver.common.keys import Keys\n",
    "from selenium.webdriver import ActionChains\n",
    "from pprint import pprint\n",
    "from message_config import *"
   ]
  },
  {
   "cell_type": "code",
   "execution_count": 2,
   "metadata": {},
   "outputs": [],
   "source": [
    "broadcast_id = []               # 방송 ID\n",
    "broadcast_url = []              # 방송 URL\n",
    "broadcast_starttime = []        # 방송 시작시간\n",
    "broadcast_fulltime = []\n",
    "bool_onair = []                 # 방송시청 판단 여부, True/False\n",
    "bool_reward = []\n",
    "broadcast_count = 0             # 방송 개수\n",
    "tabs_num = []                   # Chrome Browser 관리\n"
   ]
  },
  {
   "cell_type": "code",
   "execution_count": 3,
   "metadata": {},
   "outputs": [],
   "source": [
    "def load_broadcast_info():\n",
    "    global broadcast_id\n",
    "    global broadcast_url\n",
    "    global broadcast_starttime\n",
    "    global bool_onair\n",
    "    global broadcast_count\n",
    "    global broadcast_fulltime\n",
    "\n",
    "    \n",
    "    broadcast_id = []\n",
    "    broadcast_url = []\n",
    "    broadcast_starttime = []\n",
    "    broadcast_fulltime = []\n",
    "    bool_onair = []\n",
    "    broadcast_count = 0\n",
    "    broadcast_timestamp = 0\n",
    "\n",
    "\n",
    "    \n",
    "    # 오늘의 날짜, Day\n",
    "    todays_date = datetime.datetime.today().strftime('%d')\n",
    "\n",
    "    response_milestone = requests.get('https://apis.naver.com/selectiveweb/live_commerce_web/v2/broadcast/milestones')\n",
    "    dict_milestone = json.loads(response_milestone.text)\n",
    "\n",
    "\n",
    "    for _milestone in dict_milestone:\n",
    "        if int(todays_date) == _milestone['milestone']['date']:\n",
    "            broadcast_timestamp = _milestone['milestone']['timestamp']  # 해당 날짜 타임스템프\n",
    "            broadcast_count = _milestone['broadcastCount']\n",
    "\n",
    "    response_dailyshow = requests.get(f'https://apis.naver.com/selectiveweb/selectiveweb/v1/lives/timeline/daily?next={broadcast_timestamp}&size=100')\n",
    "    dict_dailyshow = json.loads(response_dailyshow.text)\n",
    "\n",
    "    for _idx, _dailyshow in enumerate(dict_dailyshow['list']):\n",
    "        broadcast_id.append(_dailyshow['broadcastId'])\n",
    "        broadcast_url.append(_dailyshow['broadcastEndUrl'])\n",
    "        broadcast_starttime.append(int(_dailyshow['expectedStartDate'][11:13] + _dailyshow['expectedStartDate'][14:16]))\n",
    "        broadcast_fulltime.append(_dailyshow['expectedStartDate'])\n",
    "\n",
    "    bool_onair = [False for _ in range(len(broadcast_id))]\n",
    "    \n",
    "    broadcast_fulltime = [new_text.replace('T', ' ') for new_text in broadcast_fulltime]\n",
    "    broadcast_fulltime = [datetime.datetime.strptime(new_type[0:19], '%Y-%m-%d %H:%M:%S') for new_type in broadcast_fulltime]\n",
    "\n",
    "    print(\"--------------------------------------------------\")\n",
    "    print(datetime.datetime.today().strftime(f'%Y년 %m월 %d일'))\n",
    "    print(f'방송 갯수: {broadcast_count}')\n",
    "    print(f'방송 ID: {broadcast_id}')\n",
    "    print(f'방송 시간: {broadcast_starttime}')\n",
    "    print(f'방송 상태: {bool_onair}')\n",
    "    print(\"--------------------------------------------------\")"
   ]
  },
  {
   "cell_type": "code",
   "execution_count": 4,
   "metadata": {},
   "outputs": [],
   "source": [
    "def broadcast_connection(_idx):\n",
    "    global tabs_num\n",
    "    lock.acquire()\n",
    "    tabs = driver.window_handles\n",
    "    driver.switch_to.window(tabs[tabs_num.index(_idx)])\n",
    "    driver.set_window_position(random.randrange(1600), random.randrange(800))\n",
    "    driver.get(broadcast_url[_idx])\n",
    "    lock.release()"
   ]
  },
  {
   "cell_type": "code",
   "execution_count": 5,
   "metadata": {},
   "outputs": [],
   "source": [
    "def comment_button_click(_idx):\n",
    "    global tabs_num\n",
    "    lock.acquire()\n",
    "    tabs = driver.window_handles\n",
    "    driver.switch_to.window(tabs[tabs_num.index(_idx)])\n",
    "    try:\n",
    "        driver.find_element_by_class_name('CommentButton_icon_3iWZs').click()\n",
    "    except:\n",
    "        print(f\">> ERROR: {_idx}, Comment1, 버튼 클릭\")\n",
    "    lock.release()"
   ]
  },
  {
   "cell_type": "code",
   "execution_count": 6,
   "metadata": {},
   "outputs": [],
   "source": [
    "def input_comment(_idx, _step):\n",
    "    global tabs_num\n",
    "    lock.acquire()\n",
    "    tabs = driver.window_handles\n",
    "    driver.switch_to.window(tabs[tabs_num.index(_idx)])\n",
    "    try:\n",
    "        driver.find_element_by_xpath('//*[@id=\"wa_textarea\"]').send_keys(list_comments[random.randrange(len(list_comments))])\n",
    "    except:\n",
    "        print(f\">> ERROR: {_idx}, Comment{_step}, 코멘트 입력\")\n",
    "    lock.release()\n"
   ]
  },
  {
   "cell_type": "code",
   "execution_count": 7,
   "metadata": {},
   "outputs": [],
   "source": [
    "def comment_enter(_idx, _step):\n",
    "    global tabs_num\n",
    "    lock.acquire()\n",
    "    tabs = driver.window_handles\n",
    "    driver.switch_to.window(tabs[tabs_num.index(_idx)])\n",
    "    try:\n",
    "        #driver.find_element_by_class_name('CommentWrite_button_2pJxH').click()\n",
    "        driver.find_element_by_xpath('//*[@id=\"wa_textarea\"]').send_keys(Keys.ENTER)\n",
    "    except:\n",
    "        print(f\">> ERROR: {_idx}, Comment1, 엔터\")\n",
    "    lock.release()"
   ]
  },
  {
   "cell_type": "code",
   "execution_count": 8,
   "metadata": {},
   "outputs": [],
   "source": [
    "def close_browser(_idx):\n",
    "    global tabs_num\n",
    "    global broadcast_starttime\n",
    "\n",
    "    lock.acquire()\n",
    "    tabs = driver.window_handles\n",
    "    driver.switch_to.window(tabs[tabs_num.index(_idx)])\n",
    "    driver.close()\n",
    "    tabs_num.remove(_idx)\n",
    "    try:\n",
    "        exit_time = datetime.datetime.now().strftime(f'%H:%M:%S')\n",
    "    except:\n",
    "        print(f\">> ERROR: {_idx}, 창닫기\")\n",
    "    lock.release()\n",
    "\n",
    "    print(f\"{exit_time} >> {_idx}, {broadcast_starttime[_idx]}, Broadcast Close!\")\n"
   ]
  },
  {
   "cell_type": "code",
   "execution_count": 9,
   "metadata": {},
   "outputs": [],
   "source": [
    "def copy_input(xpath, input):\n",
    "    pyperclip.copy(input)\n",
    "    driver.find_element_by_xpath(xpath).click()\n",
    "    ActionChains(driver).key_down(Keys.CONTROL).send_keys('v').key_up(Keys.CONTROL).perform()\n",
    "    time.sleep(1)"
   ]
  },
  {
   "cell_type": "code",
   "execution_count": 10,
   "metadata": {},
   "outputs": [],
   "source": [
    "# ==================================================================================\n",
    "# Thread Start\n",
    "# ==================================================================================\n",
    "\n",
    "def thread_onair(onair_idx, onair_time, start_time):\n",
    "    global tabs_num\n",
    "    bool_run_onair = True\n",
    "    \n",
    "    # Open the browser & connect to broadcast\n",
    "    tabs = driver.window_handles\n",
    "    if len(tabs) == 1:\n",
    "        driver.switch_to.window(tabs[0])\n",
    "    driver.execute_script('window.open(\"/\", \"\", \"_blank\");')\n",
    "\n",
    "    lock.acquire()\n",
    "    tabs_num.append(onair_idx)\n",
    "    lock.release()\n",
    "    broadcast_connection(onair_idx)\n",
    "    \n",
    "    # gap_time = 0\n",
    "    while(bool_run_onair):\n",
    "        gap_time = (datetime.datetime.now() - start_time).seconds\n",
    "        \n",
    "        # Comment 1\n",
    "        if gap_time == 600:     # 10분 뒤 (방송시작 5분 후)\n",
    "            comment_button_click(onair_idx)        # 버튼 클릭\n",
    "            time.sleep(0.6)\n",
    "            input_comment(onair_idx, 1)            # 코멘트 입력\n",
    "            time.sleep(0.5)\n",
    "            comment_enter(onair_idx, 1)               # 엔터\n",
    "\n",
    "        # Comment 2\n",
    "        if gap_time == 900:    # 15분 뒤 (방송시작 10분 후)\n",
    "            input_comment(onair_idx, 2)            # 코멘트 입력\n",
    "            time.sleep(0.6)\n",
    "            comment_enter(onair_idx, 2)               # 엔터\n",
    "            time.sleep(0.6)\n",
    "\n",
    "        if gap_time == 4200: # 70분 뒤 (방송시작 65분 후)\n",
    "            close_browser(onair_idx)\n",
    "            bool_run_onair = False\n"
   ]
  },
  {
   "cell_type": "code",
   "execution_count": 12,
   "metadata": {},
   "outputs": [],
   "source": [
    "# # ==================================================================================\n",
    "# # Main function\n",
    "# # ==================================================================================\n",
    "# id = 'id'\n",
    "# pw = 'pw'\n",
    "\n",
    "# if __name__ == \"__main__\":\n",
    "#     load_broadcast_info()\n",
    "\n",
    "#     DRIVER_PATH = './chromedriver'\n",
    "#     CHROME_OPTIONS = Options()\n",
    "#     CHROME_OPTIONS.add_argument(\"--window-size=200,150\")\n",
    "#     driver = webdriver.Chrome(executable_path=DRIVER_PATH, chrome_options=CHROME_OPTIONS)\n",
    "\n",
    "#     # Login\n",
    "#     tabs = driver.window_handles\n",
    "#     driver.switch_to.window(tabs[0])\n",
    "#     #driver.get('http://www.naver.com/')\n",
    "    \n",
    "#     driver.get('https://nid.naver.com/nidlogin.login?mode=form&url=https%3A%2F%2Fwww.naver.com')\n",
    "#     copy_input('//*[@id=\"id\"]', id)\n",
    "#     time.sleep(1)\n",
    "#     copy_input('//*[@id=\"pw\"]', pw)\n",
    "#     time.sleep(1)\n",
    "#     driver.find_element_by_xpath('//*[@id=\"login_keep_wrap\"]/div[1]/label').click()\n",
    "#     time.sleep(1)\n",
    "#     driver.find_element_by_xpath('//*[@id=\"log.login\"]/span').click()\n",
    "    \n",
    "#     time.sleep(15)\n",
    "#     tabs_num.append(9999)\n",
    "    \n",
    "#     bool_main_refresh = False       # Main browser refresh\n",
    "#     bool_new_day = False\n",
    "\n",
    "#     refresh_time = [10, 23, 40, 53]\n",
    "\n",
    "#     lock = threading.Lock()\n",
    "\n",
    "#     random.shuffle(list_comments)\n",
    "    \n",
    "#     while(1):\n",
    "#         nowtime = datetime.datetime.now()\n",
    "#         nowtime_hour_min = datetime.datetime.now().strftime('%H%M')\n",
    "\n",
    "#         # -----------------------------------\n",
    "#         # Main browser auto refresh\n",
    "#         # -----------------------------------\n",
    "#         if (int(nowtime_hour_min[2:4]) in refresh_time) and not bool_main_refresh:\n",
    "#             lock.acquire()\n",
    "#             print(f\"{nowtime.strftime(f'%H:%M:%S')} >> Main browser refresh\")\n",
    "#             tabs = driver.window_handles\n",
    "#             driver.switch_to.window(tabs[0])\n",
    "#             driver.refresh()\n",
    "#             bool_main_refresh = True\n",
    "#             lock.release()\n",
    "#         elif (int(nowtime_hour_min[2:4])-1 in refresh_time) and bool_main_refresh:\n",
    "#             lock.acquire()\n",
    "#             bool_main_refresh = False\n",
    "#             lock.release()\n",
    "\n",
    "#         # -----------------------------------\n",
    "#         # Update new day information (AM 09:45)\n",
    "#         # -----------------------------------\n",
    "#         if (nowtime.strftime('%H%M') == '0945') and not bool_new_day:\n",
    "#             print(f\"{nowtime.strftime(f'%H:%M:%S')} >> Update new day information\")\n",
    "#             load_broadcast_info()\n",
    "#             bool_new_day = True\n",
    "#         elif (nowtime.strftime('%H%M') == '0946') and bool_new_day:\n",
    "#             bool_new_day = False\n",
    "\n",
    "#         # -----------------------------------\n",
    "#         # On air thread\n",
    "#         # -----------------------------------\n",
    "#         #nowtime = datetime.datetime(2020, 12, 23, 10, 56, 37, 20143)\n",
    "#         nowtime = datetime.datetime.now()\n",
    "\n",
    "#         for idx, _fulltime in enumerate(broadcast_fulltime):\n",
    "#             if (_fulltime - nowtime).seconds < 300 and not bool_onair[idx]:     # 5분전 실행\n",
    "#                 bool_onair[idx] = True\n",
    "                \n",
    "#                 # EX) 13:50:39 >> 11, 56241, 1400: Broadcast start!\n",
    "#                 print(f\"{nowtime.strftime(f'%H:%M:%S')} >> {idx}, {broadcast_id[idx]}, {broadcast_starttime[idx]}: Broadcast start!\")\n",
    "#                 onair_thread = threading.Thread(target=thread_onair, args=(idx, broadcast_starttime[idx], nowtime))\n",
    "#                 onair_thread.start()\n",
    "#                 time.sleep(1)\n",
    "#                 break\n",
    "\n",
    "#         time.sleep(0.1)\n",
    "\n"
   ]
  },
  {
   "cell_type": "code",
   "execution_count": null,
   "metadata": {},
   "outputs": [],
   "source": []
  },
  {
   "cell_type": "code",
   "execution_count": 12,
   "metadata": {},
   "outputs": [
    {
     "name": "stdout",
     "output_type": "stream",
     "text": [
      "--------------------------------------------------\n",
      "2022년 03월 16일\n",
      "방송 갯수: 93\n",
      "방송 ID: [447194, 432872, 437859, 449647, 450833, 443832, 432501, 420578, 447411, 447425, 442621, 443601, 436611, 417945, 446134, 443478, 449995, 431297, 439960, 444173, 445342, 450034, 443940, 438684, 446016, 429877, 449821, 446630, 445483, 447193, 429174, 449644, 442210, 445233, 441997, 442907, 445284, 445266, 446917, 449678, 446582, 447135, 446845, 445637, 434447, 449558, 449990, 447373, 445683, 441752, 447748, 443301, 441841, 446142, 445389, 439926, 446893, 437910, 445526, 438254, 440225, 443060, 443482, 446214, 447075, 438353, 449399, 445454, 436679, 431318, 445255, 442596, 445195, 445793, 420039, 445722, 447361, 443877, 417952, 445370, 443239, 446734, 442169, 445299, 442917, 445211, 423809, 440168, 445677, 445869, 441991, 443335, 440102]\n",
      "방송 시간: [900, 1000, 1000, 1000, 1000, 1000, 1030, 1030, 1030, 1100, 1100, 1100, 1100, 1100, 1100, 1100, 1100, 1100, 1100, 1100, 1100, 1100, 1100, 1100, 1100, 1100, 1100, 1100, 1100, 1100, 1100, 1100, 1100, 1100, 1130, 1200, 1200, 1200, 1230, 1330, 1330, 1400, 1400, 1400, 1400, 1400, 1500, 1600, 1700, 1700, 1800, 1800, 1800, 1800, 1800, 1800, 1800, 1830, 1830, 1900, 1900, 1900, 1900, 1900, 1900, 1900, 1900, 1900, 1900, 1900, 1900, 2000, 2000, 2000, 2000, 2000, 2000, 2000, 2000, 2000, 2015, 2030, 2030, 2030, 2100, 2100, 2100, 2100, 2100, 2100, 2100, 2140, 2200]\n",
      "방송 상태: [False, False, False, False, False, False, False, False, False, False, False, False, False, False, False, False, False, False, False, False, False, False, False, False, False, False, False, False, False, False, False, False, False, False, False, False, False, False, False, False, False, False, False, False, False, False, False, False, False, False, False, False, False, False, False, False, False, False, False, False, False, False, False, False, False, False, False, False, False, False, False, False, False, False, False, False, False, False, False, False, False, False, False, False, False, False, False, False, False, False, False, False, False]\n",
      "--------------------------------------------------\n"
     ]
    }
   ],
   "source": [
    "load_broadcast_info()"
   ]
  },
  {
   "cell_type": "code",
   "execution_count": 13,
   "metadata": {},
   "outputs": [
    {
     "name": "stderr",
     "output_type": "stream",
     "text": [
      "<ipython-input-13-fbea370fef7f>:4: DeprecationWarning: use options instead of chrome_options\n",
      "  driver = webdriver.Chrome(executable_path=DRIVER_PATH, chrome_options=CHROME_OPTIONS)\n"
     ]
    }
   ],
   "source": [
    "DRIVER_PATH = './chromedriver'\n",
    "CHROME_OPTIONS = Options()\n",
    "CHROME_OPTIONS.add_argument(\"--window-size=200,150\")\n",
    "driver = webdriver.Chrome(executable_path=DRIVER_PATH, chrome_options=CHROME_OPTIONS)\n"
   ]
  },
  {
   "cell_type": "code",
   "execution_count": 14,
   "metadata": {},
   "outputs": [],
   "source": [
    "# Login\n",
    "tabs = driver.window_handles\n",
    "driver.switch_to.window(tabs[0])\n",
    "#driver.get('http://www.naver.com/')"
   ]
  },
  {
   "cell_type": "code",
   "execution_count": 15,
   "metadata": {},
   "outputs": [],
   "source": [
    "driver.get('https://nid.naver.com/nidlogin.login?mode=form&url=https%3A%2F%2Fwww.naver.com')\n",
    "copy_input('//*[@id=\"id\"]', id)\n",
    "time.sleep(0.5)\n",
    "copy_input('//*[@id=\"pw\"]', pw)\n",
    "time.sleep(0.5)\n",
    "driver.find_element_by_xpath('//*[@id=\"login_keep_wrap\"]/div[1]/label').click()\n",
    "time.sleep(0.5)\n",
    "driver.find_element_by_xpath('//*[@id=\"log.login\"]/span').click()"
   ]
  },
  {
   "cell_type": "code",
   "execution_count": 16,
   "metadata": {},
   "outputs": [],
   "source": [
    "time.sleep(5)\n",
    "tabs_num.append(9999)"
   ]
  },
  {
   "cell_type": "code",
   "execution_count": 17,
   "metadata": {},
   "outputs": [
    {
     "data": {
      "text/plain": [
       "[9999]"
      ]
     },
     "execution_count": 17,
     "metadata": {},
     "output_type": "execute_result"
    }
   ],
   "source": [
    "tabs_num"
   ]
  },
  {
   "cell_type": "code",
   "execution_count": 18,
   "metadata": {},
   "outputs": [],
   "source": [
    "bool_main_refresh = False       # Main browser refresh\n",
    "bool_new_day = False"
   ]
  },
  {
   "cell_type": "code",
   "execution_count": 19,
   "metadata": {},
   "outputs": [],
   "source": [
    "refresh_time = [13, 37]"
   ]
  },
  {
   "cell_type": "code",
   "execution_count": null,
   "metadata": {},
   "outputs": [],
   "source": []
  },
  {
   "cell_type": "code",
   "execution_count": 20,
   "metadata": {},
   "outputs": [],
   "source": [
    "nowtime = datetime.datetime.now()\n",
    "nowtime_hour_min = datetime.datetime.now().strftime('%H%M')"
   ]
  },
  {
   "cell_type": "code",
   "execution_count": 22,
   "metadata": {},
   "outputs": [
    {
     "data": {
      "text/plain": [
       "datetime.datetime(2022, 3, 16, 10, 38, 48, 386625)"
      ]
     },
     "execution_count": 22,
     "metadata": {},
     "output_type": "execute_result"
    }
   ],
   "source": [
    "nowtime"
   ]
  },
  {
   "cell_type": "code",
   "execution_count": 23,
   "metadata": {},
   "outputs": [
    {
     "data": {
      "text/plain": [
       "'1038'"
      ]
     },
     "execution_count": 23,
     "metadata": {},
     "output_type": "execute_result"
    }
   ],
   "source": [
    "nowtime_hour_min"
   ]
  },
  {
   "cell_type": "code",
   "execution_count": null,
   "metadata": {},
   "outputs": [],
   "source": []
  },
  {
   "cell_type": "code",
   "execution_count": 24,
   "metadata": {},
   "outputs": [
    {
     "name": "stderr",
     "output_type": "stream",
     "text": [
      "Exception in thread Thread-6:\n",
      "Traceback (most recent call last):\n",
      "  File \"C:\\Users\\wnsdh\\anaconda3\\envs\\myproject\\lib\\threading.py\", line 932, in _bootstrap_inner\n",
      "    self.run()\n",
      "  File \"C:\\Users\\wnsdh\\anaconda3\\envs\\myproject\\lib\\threading.py\", line 870, in run\n",
      "    self._target(*self._args, **self._kwargs)\n",
      "  File \"<ipython-input-10-679a2304b421>\", line 15, in thread_onair\n",
      "NameError: name 'lock' is not defined\n"
     ]
    },
    {
     "name": "stdout",
     "output_type": "stream",
     "text": [
      "10:29:37 >> 6, 432501, 1030: Broadcast start!\n"
     ]
    }
   ],
   "source": [
    "nowtime = datetime.datetime(2022, 3, 16, 10, 29, 37, 20143)\n",
    "#nowtime = datetime.datetime.now()\n",
    "\n",
    "for idx, _fulltime in enumerate(broadcast_fulltime):\n",
    "    if (_fulltime - nowtime).seconds < 300 and not bool_onair[idx]:     # 5분전 실행\n",
    "        bool_onair[idx] = True\n",
    "\n",
    "        # EX) 13:50:39 >> 11, 56241, 1400: Broadcast start!\n",
    "        print(f\"{nowtime.strftime(f'%H:%M:%S')} >> {idx}, {broadcast_id[idx]}, {broadcast_starttime[idx]}: Broadcast start!\")\n",
    "        onair_thread = threading.Thread(target=thread_onair, args=(idx, broadcast_starttime[idx], nowtime))\n",
    "        onair_thread.start()\n",
    "        time.sleep(1)\n",
    "        break"
   ]
  },
  {
   "cell_type": "code",
   "execution_count": 25,
   "metadata": {},
   "outputs": [
    {
     "data": {
      "text/plain": [
       "6"
      ]
     },
     "execution_count": 25,
     "metadata": {},
     "output_type": "execute_result"
    }
   ],
   "source": [
    "idx"
   ]
  },
  {
   "cell_type": "code",
   "execution_count": null,
   "metadata": {},
   "outputs": [],
   "source": []
  },
  {
   "cell_type": "code",
   "execution_count": null,
   "metadata": {},
   "outputs": [
    {
     "name": "stdout",
     "output_type": "stream",
     "text": [
      "--------------------------------------------------\n",
      "2022년 03월 08일\n",
      "방송 갯수: 78\n",
      "방송 ID: [439778, 437206, 441890, 432982, 417929, 426649, 419813, 440226, 430616, 438043, 440086, 440018, 429703, 432586, 436451, 438379, 430244, 435212, 442626, 437439, 410837, 437407, 435065, 438077, 438483, 436405, 426555, 431641, 433448, 440833, 421111, 438471, 429937, 440002, 437112, 432793, 434814, 442370, 438882, 435401, 442365, 437223, 435304, 442282, 439826, 436751, 441185, 438773, 439851, 429764, 432975, 437430, 431325, 421235, 432415, 435773, 439041, 429862, 438478, 429723, 426975, 435259, 429733, 435252, 422311, 440396, 435370, 435302, 438495, 441177, 440238, 421216, 437481, 440511, 431703, 433468, 438859]\n",
      "방송 시간: [800, 900, 930, 1000, 1000, 1000, 1000, 1010, 1030, 1030, 1030, 1100, 1100, 1100, 1100, 1100, 1100, 1100, 1100, 1100, 1100, 1100, 1100, 1100, 1100, 1100, 1100, 1100, 1200, 1200, 1200, 1230, 1230, 1300, 1400, 1400, 1400, 1400, 1400, 1500, 1600, 1600, 1700, 1700, 1700, 1800, 1800, 1800, 1800, 1800, 1900, 1900, 1900, 1900, 1900, 1900, 1900, 1900, 1900, 1900, 1900, 1900, 1900, 1900, 1900, 1900, 2000, 2000, 2000, 2000, 2000, 2000, 2000, 2000, 2100, 2100, 2200]\n",
      "방송 상태: [False, False, False, False, False, False, False, False, False, False, False, False, False, False, False, False, False, False, False, False, False, False, False, False, False, False, False, False, False, False, False, False, False, False, False, False, False, False, False, False, False, False, False, False, False, False, False, False, False, False, False, False, False, False, False, False, False, False, False, False, False, False, False, False, False, False, False, False, False, False, False, False, False, False, False, False, False]\n",
      "--------------------------------------------------\n"
     ]
    },
    {
     "name": "stderr",
     "output_type": "stream",
     "text": [
      "<ipython-input-12-1707bed8f193>:13: DeprecationWarning: use options instead of chrome_options\n",
      "  driver = webdriver.Chrome(executable_path=DRIVER_PATH, chrome_options=CHROME_OPTIONS)\n"
     ]
    }
   ],
   "source": [
    "\n",
    "lock = threading.Lock()\n",
    "random.shuffle(list_comments)\n",
    "tictoc_second = 0\n",
    "\n",
    "while(1):\n",
    "    nowtime = datetime.datetime.now()    # datetime.datetime(2022, 3, 8, 20, 19, 13, 842122)\n",
    "    nowtime_hour_min = datetime.datetime.now().strftime('%H%M')    # 2019\n",
    "\n",
    "    # -----------------------------------\n",
    "    # 메인 로그인 브라우저 새로고침\n",
    "    # -----------------------------------\n",
    "    if (int(nowtime_hour_min[2:4]) in refresh_time) and not bool_main_refresh:\n",
    "        lock.acquire()\n",
    "        print(f\"{nowtime.strftime(f'%H:%M:%S')} >> Main browser refresh\")\n",
    "        tabs = driver.window_handles\n",
    "        driver.switch_to.window(tabs[0])\n",
    "        driver.refresh()\n",
    "        bool_main_refresh = True\n",
    "        lock.release()\n",
    "    elif (int(nowtime_hour_min[2:4])-1 in refresh_time) and bool_main_refresh:\n",
    "        lock.acquire()\n",
    "        bool_main_refresh = False\n",
    "        lock.release()\n",
    "\n",
    "    # -----------------------------------\n",
    "    # 당일 방송정보 업데이트 (AM 09:45)\n",
    "    # -----------------------------------\n",
    "    if (nowtime.strftime('%H%M') == '0945') and not bool_new_day:\n",
    "        print(f\"{nowtime.strftime(f'%H:%M:%S')} >> 새로운 방송정보 업데이트\")\n",
    "        load_broadcast_info()\n",
    "        bool_new_day = True\n",
    "    elif (nowtime.strftime('%H%M') == '0946') and bool_new_day:\n",
    "        bool_new_day = False\n",
    "\n",
    "    # -----------------------------------\n",
    "    # 생방송 스레드\n",
    "    # -----------------------------------\n",
    "    #nowtime = datetime.datetime(2020, 12, 23, 10, 56, 37, 20143)\n",
    "    nowtime = datetime.datetime.now()\n",
    "\n",
    "    for idx, _fulltime in enumerate(broadcast_fulltime):\n",
    "        if (_fulltime - nowtime).seconds < 300 and not bool_onair[idx]:     # 5분전 실행\n",
    "            bool_onair[idx] = True\n",
    "\n",
    "            # EX) 13:50:39 >> 11, 56241, 1400: Broadcast start!\n",
    "            print(f\"{nowtime.strftime(f'%H:%M:%S')} >> {idx}, {broadcast_id[idx]}, {broadcast_starttime[idx]}: Broadcast start!\")\n",
    "            onair_thread = threading.Thread(target=thread_onair, args=(idx, broadcast_starttime[idx], nowtime))\n",
    "            onair_thread.start()\n",
    "            time.sleep(1)\n",
    "            break\n",
    "\n",
    "    time.sleep(0.1)\n",
    "\n"
   ]
  },
  {
   "cell_type": "code",
   "execution_count": null,
   "metadata": {},
   "outputs": [],
   "source": []
  },
  {
   "cell_type": "code",
   "execution_count": 177,
   "metadata": {},
   "outputs": [
    {
     "name": "stdout",
     "output_type": "stream",
     "text": [
      "2115\n"
     ]
    }
   ],
   "source": []
  },
  {
   "cell_type": "code",
   "execution_count": null,
   "metadata": {},
   "outputs": [],
   "source": []
  },
  {
   "cell_type": "code",
   "execution_count": 168,
   "metadata": {},
   "outputs": [
    {
     "data": {
      "text/plain": [
       "datetime.datetime(2022, 3, 8, 20, 32, 1, 889056)"
      ]
     },
     "execution_count": 168,
     "metadata": {},
     "output_type": "execute_result"
    }
   ],
   "source": [
    "nowtime = datetime.datetime.now()\n",
    "nowtime"
   ]
  },
  {
   "cell_type": "code",
   "execution_count": 169,
   "metadata": {
    "scrolled": true
   },
   "outputs": [
    {
     "data": {
      "text/plain": [
       "[datetime.datetime(2022, 3, 8, 8, 0, 6),\n",
       " datetime.datetime(2022, 3, 8, 9, 0, 33),\n",
       " datetime.datetime(2022, 3, 8, 9, 30, 29),\n",
       " datetime.datetime(2022, 3, 8, 10, 0, 29),\n",
       " datetime.datetime(2022, 3, 8, 10, 0, 41),\n",
       " datetime.datetime(2022, 3, 8, 10, 0, 27),\n",
       " datetime.datetime(2022, 3, 8, 10, 0, 3),\n",
       " datetime.datetime(2022, 3, 8, 10, 10, 43),\n",
       " datetime.datetime(2022, 3, 8, 10, 30, 23),\n",
       " datetime.datetime(2022, 3, 8, 10, 30, 53),\n",
       " datetime.datetime(2022, 3, 8, 10, 30, 49),\n",
       " datetime.datetime(2022, 3, 8, 11, 0, 58),\n",
       " datetime.datetime(2022, 3, 8, 11, 0, 52),\n",
       " datetime.datetime(2022, 3, 8, 11, 0, 6),\n",
       " datetime.datetime(2022, 3, 8, 11, 0, 49),\n",
       " datetime.datetime(2022, 3, 8, 11, 0, 43),\n",
       " datetime.datetime(2022, 3, 8, 11, 0, 15),\n",
       " datetime.datetime(2022, 3, 8, 11, 0, 27),\n",
       " datetime.datetime(2022, 3, 8, 11, 0, 47),\n",
       " datetime.datetime(2022, 3, 8, 11, 0, 14),\n",
       " datetime.datetime(2022, 3, 8, 11, 0, 50),\n",
       " datetime.datetime(2022, 3, 8, 11, 0, 1),\n",
       " datetime.datetime(2022, 3, 8, 11, 0, 23),\n",
       " datetime.datetime(2022, 3, 8, 11, 0, 39),\n",
       " datetime.datetime(2022, 3, 8, 11, 0, 27),\n",
       " datetime.datetime(2022, 3, 8, 11, 0, 9),\n",
       " datetime.datetime(2022, 3, 8, 11, 0, 9),\n",
       " datetime.datetime(2022, 3, 8, 11, 0, 11),\n",
       " datetime.datetime(2022, 3, 8, 12, 0, 35),\n",
       " datetime.datetime(2022, 3, 8, 12, 0, 8),\n",
       " datetime.datetime(2022, 3, 8, 12, 0, 23),\n",
       " datetime.datetime(2022, 3, 8, 12, 30, 27),\n",
       " datetime.datetime(2022, 3, 8, 12, 30, 17),\n",
       " datetime.datetime(2022, 3, 8, 13, 0, 56),\n",
       " datetime.datetime(2022, 3, 8, 14, 0, 51),\n",
       " datetime.datetime(2022, 3, 8, 14, 0, 32),\n",
       " datetime.datetime(2022, 3, 8, 14, 0, 10),\n",
       " datetime.datetime(2022, 3, 8, 14, 0, 51),\n",
       " datetime.datetime(2022, 3, 8, 14, 0, 5),\n",
       " datetime.datetime(2022, 3, 8, 15, 0, 42),\n",
       " datetime.datetime(2022, 3, 8, 16, 0, 45),\n",
       " datetime.datetime(2022, 3, 8, 16, 0, 30),\n",
       " datetime.datetime(2022, 3, 8, 17, 0, 58),\n",
       " datetime.datetime(2022, 3, 8, 17, 0, 35),\n",
       " datetime.datetime(2022, 3, 8, 17, 0, 48),\n",
       " datetime.datetime(2022, 3, 8, 18, 0, 9),\n",
       " datetime.datetime(2022, 3, 8, 18, 0, 7),\n",
       " datetime.datetime(2022, 3, 8, 18, 0, 47),\n",
       " datetime.datetime(2022, 3, 8, 18, 0, 26),\n",
       " datetime.datetime(2022, 3, 8, 18, 0, 37),\n",
       " datetime.datetime(2022, 3, 8, 19, 0, 10),\n",
       " datetime.datetime(2022, 3, 8, 19, 0, 41),\n",
       " datetime.datetime(2022, 3, 8, 19, 0, 22),\n",
       " datetime.datetime(2022, 3, 8, 19, 0, 38),\n",
       " datetime.datetime(2022, 3, 8, 19, 0, 1),\n",
       " datetime.datetime(2022, 3, 8, 19, 0, 21),\n",
       " datetime.datetime(2022, 3, 8, 19, 0, 46),\n",
       " datetime.datetime(2022, 3, 8, 19, 0, 27),\n",
       " datetime.datetime(2022, 3, 8, 19, 0, 31),\n",
       " datetime.datetime(2022, 3, 8, 19, 0, 5),\n",
       " datetime.datetime(2022, 3, 8, 19, 0, 7),\n",
       " datetime.datetime(2022, 3, 8, 19, 0, 29),\n",
       " datetime.datetime(2022, 3, 8, 19, 0),\n",
       " datetime.datetime(2022, 3, 8, 19, 0, 43),\n",
       " datetime.datetime(2022, 3, 8, 19, 0, 46),\n",
       " datetime.datetime(2022, 3, 8, 19, 0, 11),\n",
       " datetime.datetime(2022, 3, 8, 20, 0, 7),\n",
       " datetime.datetime(2022, 3, 8, 20, 0, 7),\n",
       " datetime.datetime(2022, 3, 8, 20, 0, 57),\n",
       " datetime.datetime(2022, 3, 8, 20, 0, 28),\n",
       " datetime.datetime(2022, 3, 8, 20, 0, 53),\n",
       " datetime.datetime(2022, 3, 8, 20, 0, 52),\n",
       " datetime.datetime(2022, 3, 8, 20, 0, 13),\n",
       " datetime.datetime(2022, 3, 8, 20, 0, 19),\n",
       " datetime.datetime(2022, 3, 8, 21, 0, 17),\n",
       " datetime.datetime(2022, 3, 8, 21, 0, 31),\n",
       " datetime.datetime(2022, 3, 8, 22, 0, 42)]"
      ]
     },
     "execution_count": 169,
     "metadata": {},
     "output_type": "execute_result"
    }
   ],
   "source": [
    "broadcast_fulltime"
   ]
  },
  {
   "cell_type": "code",
   "execution_count": 170,
   "metadata": {},
   "outputs": [
    {
     "data": {
      "text/plain": [
       "datetime.datetime(2022, 3, 8, 20, 33, 9, 536869)"
      ]
     },
     "execution_count": 170,
     "metadata": {},
     "output_type": "execute_result"
    }
   ],
   "source": [
    "datetime.datetime.now()"
   ]
  },
  {
   "cell_type": "code",
   "execution_count": null,
   "metadata": {},
   "outputs": [],
   "source": []
  },
  {
   "cell_type": "code",
   "execution_count": null,
   "metadata": {},
   "outputs": [],
   "source": [
    "#nowtime = datetime.datetime(2020, 12, 23, 10, 56, 37, 20143)\n",
    "nowtime = datetime.datetime.now()\n",
    "\n",
    "for idx, _fulltime in enumerate(broadcast_fulltime):\n",
    "    if (_fulltime - nowtime).seconds < 60 and not bool_onair[idx]:     # 1분전 실행, 실행중이 아닐때\n",
    "        \n",
    "        # 방송 리워드 체크\n",
    "        if bool_reward == 0:\n",
    "            outerHTML = requrests.get('https://view.shoppinglive.naver.com/lives/{}'.format(broadcast_id[idx]))\n",
    "            useReward = 'useReward\\\\\":true'\n",
    "            bool_reward[idx] = outerHTML.text.find(useReward)\n",
    "        \n",
    "        # 방송 리워드 True\n",
    "        if bool_reward[idx] > 0:\n",
    "            bool_onair[idx] = True\n",
    "            print(f\"{nowtime.strftime(f'%H:%M:%S')} >> {idx}, {broadcast_id[idx]}, {broadcast_starttime[idx]}: Broadcast start!\")\n",
    "            onair_thread = threading.Thread(target=thread_onair, args=(idx, broadcast_starttime[idx], nowtime))\n",
    "            onair_thread.start()\n",
    "            time.sleep(1)\n",
    "            break"
   ]
  },
  {
   "cell_type": "code",
   "execution_count": null,
   "metadata": {},
   "outputs": [],
   "source": []
  },
  {
   "cell_type": "code",
   "execution_count": 178,
   "metadata": {},
   "outputs": [
    {
     "name": "stdout",
     "output_type": "stream",
     "text": [
      "2115\n"
     ]
    }
   ],
   "source": [
    "outerHTML = requests.get('https://view.shoppinglive.naver.com/lives/437430')\n",
    "\n",
    "print()"
   ]
  },
  {
   "cell_type": "code",
   "execution_count": 180,
   "metadata": {},
   "outputs": [
    {
     "data": {
      "text/plain": [
       "'https://view.shoppinglive.naver.com/lives/439778'"
      ]
     },
     "execution_count": 180,
     "metadata": {},
     "output_type": "execute_result"
    }
   ],
   "source": []
  },
  {
   "cell_type": "code",
   "execution_count": 184,
   "metadata": {},
   "outputs": [
    {
     "data": {
      "text/plain": [
       "datetime.datetime(2022, 3, 8, 21, 43, 18, 911642)"
      ]
     },
     "execution_count": 184,
     "metadata": {},
     "output_type": "execute_result"
    }
   ],
   "source": [
    "time1 = datetime.datetime.now()\n",
    "time1"
   ]
  },
  {
   "cell_type": "code",
   "execution_count": 196,
   "metadata": {},
   "outputs": [
    {
     "data": {
      "text/plain": [
       "datetime.datetime(2022, 3, 8, 21, 46, 22, 856213)"
      ]
     },
     "execution_count": 196,
     "metadata": {},
     "output_type": "execute_result"
    }
   ],
   "source": [
    "time2 = datetime.datetime.now()\n",
    "time2"
   ]
  },
  {
   "cell_type": "code",
   "execution_count": 197,
   "metadata": {},
   "outputs": [
    {
     "data": {
      "text/plain": [
       "183"
      ]
     },
     "execution_count": 197,
     "metadata": {},
     "output_type": "execute_result"
    }
   ],
   "source": [
    "(time2 - time1).seconds"
   ]
  },
  {
   "cell_type": "code",
   "execution_count": null,
   "metadata": {},
   "outputs": [],
   "source": []
  },
  {
   "cell_type": "code",
   "execution_count": null,
   "metadata": {},
   "outputs": [],
   "source": [
    "gap_time = (datetime.datetime.now() - start_time).seconds"
   ]
  },
  {
   "cell_type": "code",
   "execution_count": null,
   "metadata": {},
   "outputs": [],
   "source": []
  },
  {
   "cell_type": "code",
   "execution_count": null,
   "metadata": {},
   "outputs": [],
   "source": []
  },
  {
   "cell_type": "code",
   "execution_count": null,
   "metadata": {},
   "outputs": [],
   "source": []
  },
  {
   "cell_type": "code",
   "execution_count": 4,
   "metadata": {},
   "outputs": [
    {
     "name": "stdout",
     "output_type": "stream",
     "text": [
      "22\n"
     ]
    }
   ],
   "source": [
    "try:\n",
    "    try:\n",
    "        a = '1'\n",
    "        b = 1\n",
    "        a + b\n",
    "    except:\n",
    "        print(\"22\")\n",
    "except:\n",
    "    print(\"except\")\n"
   ]
  },
  {
   "cell_type": "code",
   "execution_count": 1,
   "metadata": {},
   "outputs": [
    {
     "ename": "TypeError",
     "evalue": "can only concatenate str (not \"int\") to str",
     "output_type": "error",
     "traceback": [
      "\u001b[1;31m---------------------------------------------------------------------------\u001b[0m",
      "\u001b[1;31mTypeError\u001b[0m                                 Traceback (most recent call last)",
      "\u001b[1;32m<ipython-input-1-eab186201970>\u001b[0m in \u001b[0;36m<module>\u001b[1;34m\u001b[0m\n\u001b[0;32m      1\u001b[0m \u001b[0ma\u001b[0m \u001b[1;33m=\u001b[0m \u001b[1;34m'1'\u001b[0m\u001b[1;33m\u001b[0m\u001b[1;33m\u001b[0m\u001b[0m\n\u001b[0;32m      2\u001b[0m \u001b[0mb\u001b[0m \u001b[1;33m=\u001b[0m \u001b[1;36m1\u001b[0m\u001b[1;33m\u001b[0m\u001b[1;33m\u001b[0m\u001b[0m\n\u001b[1;32m----> 3\u001b[1;33m \u001b[0ma\u001b[0m \u001b[1;33m+\u001b[0m \u001b[0mb\u001b[0m\u001b[1;33m\u001b[0m\u001b[1;33m\u001b[0m\u001b[0m\n\u001b[0m",
      "\u001b[1;31mTypeError\u001b[0m: can only concatenate str (not \"int\") to str"
     ]
    }
   ],
   "source": []
  },
  {
   "cell_type": "code",
   "execution_count": 13,
   "metadata": {},
   "outputs": [],
   "source": [
    "lista = ['1234']"
   ]
  },
  {
   "cell_type": "code",
   "execution_count": 14,
   "metadata": {},
   "outputs": [
    {
     "data": {
      "text/plain": [
       "['1234']"
      ]
     },
     "execution_count": 14,
     "metadata": {},
     "output_type": "execute_result"
    }
   ],
   "source": [
    "lista"
   ]
  },
  {
   "cell_type": "code",
   "execution_count": 15,
   "metadata": {},
   "outputs": [
    {
     "data": {
      "text/plain": [
       "'1234'"
      ]
     },
     "execution_count": 15,
     "metadata": {},
     "output_type": "execute_result"
    }
   ],
   "source": [
    "lista[0]"
   ]
  },
  {
   "cell_type": "code",
   "execution_count": 16,
   "metadata": {},
   "outputs": [
    {
     "name": "stdout",
     "output_type": "stream",
     "text": [
      "12:34\n"
     ]
    }
   ],
   "source": [
    "print(f'{lista[0][0:2]}:{lista[0][2:4]}')"
   ]
  },
  {
   "cell_type": "code",
   "execution_count": 27,
   "metadata": {},
   "outputs": [
    {
     "ename": "NameError",
     "evalue": "name 'lock' is not defined",
     "output_type": "error",
     "traceback": [
      "\u001b[1;31m---------------------------------------------------------------------------\u001b[0m",
      "\u001b[1;31mNameError\u001b[0m                                 Traceback (most recent call last)",
      "\u001b[1;32m<ipython-input-27-fcbbeac3fec1>\u001b[0m in \u001b[0;36m<module>\u001b[1;34m\u001b[0m\n\u001b[0;32m     12\u001b[0m \u001b[0mtabs_num\u001b[0m\u001b[1;33m.\u001b[0m\u001b[0mappend\u001b[0m\u001b[1;33m(\u001b[0m\u001b[0monair_idx\u001b[0m\u001b[1;33m)\u001b[0m\u001b[1;33m\u001b[0m\u001b[1;33m\u001b[0m\u001b[0m\n\u001b[0;32m     13\u001b[0m \u001b[1;33m\u001b[0m\u001b[0m\n\u001b[1;32m---> 14\u001b[1;33m \u001b[0mbroadcast_connection\u001b[0m\u001b[1;33m(\u001b[0m\u001b[0monair_idx\u001b[0m\u001b[1;33m)\u001b[0m\u001b[1;33m\u001b[0m\u001b[1;33m\u001b[0m\u001b[0m\n\u001b[0m",
      "\u001b[1;32m<ipython-input-4-2a27d393e159>\u001b[0m in \u001b[0;36mbroadcast_connection\u001b[1;34m(_idx)\u001b[0m\n\u001b[0;32m      1\u001b[0m \u001b[1;32mdef\u001b[0m \u001b[0mbroadcast_connection\u001b[0m\u001b[1;33m(\u001b[0m\u001b[0m_idx\u001b[0m\u001b[1;33m)\u001b[0m\u001b[1;33m:\u001b[0m\u001b[1;33m\u001b[0m\u001b[1;33m\u001b[0m\u001b[0m\n\u001b[0;32m      2\u001b[0m     \u001b[1;32mglobal\u001b[0m \u001b[0mtabs_num\u001b[0m\u001b[1;33m\u001b[0m\u001b[1;33m\u001b[0m\u001b[0m\n\u001b[1;32m----> 3\u001b[1;33m     \u001b[0mlock\u001b[0m\u001b[1;33m.\u001b[0m\u001b[0macquire\u001b[0m\u001b[1;33m(\u001b[0m\u001b[1;33m)\u001b[0m\u001b[1;33m\u001b[0m\u001b[1;33m\u001b[0m\u001b[0m\n\u001b[0m\u001b[0;32m      4\u001b[0m     \u001b[0mtabs\u001b[0m \u001b[1;33m=\u001b[0m \u001b[0mdriver\u001b[0m\u001b[1;33m.\u001b[0m\u001b[0mwindow_handles\u001b[0m\u001b[1;33m\u001b[0m\u001b[1;33m\u001b[0m\u001b[0m\n\u001b[0;32m      5\u001b[0m     \u001b[0mdriver\u001b[0m\u001b[1;33m.\u001b[0m\u001b[0mswitch_to\u001b[0m\u001b[1;33m.\u001b[0m\u001b[0mwindow\u001b[0m\u001b[1;33m(\u001b[0m\u001b[0mtabs\u001b[0m\u001b[1;33m[\u001b[0m\u001b[0mtabs_num\u001b[0m\u001b[1;33m.\u001b[0m\u001b[0mindex\u001b[0m\u001b[1;33m(\u001b[0m\u001b[0m_idx\u001b[0m\u001b[1;33m)\u001b[0m\u001b[1;33m]\u001b[0m\u001b[1;33m)\u001b[0m\u001b[1;33m\u001b[0m\u001b[1;33m\u001b[0m\u001b[0m\n",
      "\u001b[1;31mNameError\u001b[0m: name 'lock' is not defined"
     ]
    }
   ],
   "source": [
    "onair_idx = 6\n",
    "\n",
    "bool_run_onair = True\n",
    "\n",
    "# Open the browser & connect to broadcast\n",
    "tabs = driver.window_handles\n",
    "if len(tabs) == 1:\n",
    "    driver.switch_to.window(tabs[0])\n",
    "driver.execute_script('window.open(\"/\", \"\", \"_blank\");')\n",
    "\n",
    "\n",
    "tabs_num.append(onair_idx)\n",
    "\n",
    "broadcast_connection(onair_idx)"
   ]
  },
  {
   "cell_type": "code",
   "execution_count": null,
   "metadata": {},
   "outputs": [],
   "source": [
    "\n",
    "def thread_onair(onair_idx, onair_time, start_time):\n",
    "\n",
    "    \n",
    "    # gap_time = 0\n",
    "    while(bool_run_onair):\n",
    "        gap_time = (datetime.datetime.now() - start_time).seconds\n",
    "        \n",
    "        # Comment 1\n",
    "        if gap_time == 600:     # 10분 뒤 (방송시작 5분 후)\n",
    "            comment_button_click(onair_idx)        # 버튼 클릭\n",
    "            time.sleep(0.6)\n",
    "            input_comment(onair_idx, 1)            # 코멘트 입력\n",
    "            time.sleep(0.5)\n",
    "            comment_enter(onair_idx, 1)               # 엔터\n",
    "\n",
    "        # Comment 2\n",
    "        if gap_time == 900:    # 15분 뒤 (방송시작 10분 후)\n",
    "            input_comment(onair_idx, 2)            # 코멘트 입력\n",
    "            time.sleep(0.6)\n",
    "            comment_enter(onair_idx, 2)               # 엔터\n",
    "            time.sleep(0.6)\n",
    "\n",
    "        if gap_time == 4200: # 70분 뒤 (방송시작 65분 후)\n",
    "            close_browser(onair_idx)\n",
    "            bool_run_onair = False\n"
   ]
  }
 ],
 "metadata": {
  "kernelspec": {
   "display_name": "Python 3",
   "language": "python",
   "name": "python3"
  },
  "language_info": {
   "codemirror_mode": {
    "name": "ipython",
    "version": 3
   },
   "file_extension": ".py",
   "mimetype": "text/x-python",
   "name": "python",
   "nbconvert_exporter": "python",
   "pygments_lexer": "ipython3",
   "version": "3.8.5"
  }
 },
 "nbformat": 4,
 "nbformat_minor": 4
}
